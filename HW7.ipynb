{
  "nbformat": 4,
  "nbformat_minor": 0,
  "metadata": {
    "colab": {
      "provenance": []
    },
    "kernelspec": {
      "name": "python3",
      "display_name": "Python 3"
    },
    "language_info": {
      "name": "python"
    }
  },
  "cells": [
    {
      "cell_type": "markdown",
      "source": [
        "# HW7_語音模型"
      ],
      "metadata": {
        "id": "chNO93gjnhue"
      }
    },
    {
      "cell_type": "markdown",
      "source": [
        "## ✅ 任務一：語音轉文字 + 摘要（ASR + Summarization）(50%)\n",
        "\n",
        "### 📌 任務說明：\n",
        "1. 使用 Whisper 模型（建議：`openai/whisper-small`）將一段指定語音檔轉換成文字。\n",
        "2. 使用文字摘要模型（建議：`Pegasus` 或 `T5`）對轉錄後的文字進行自動摘要。\n",
        "\n",
        "---\n",
        "\n",
        "### 📤 作業繳交內容：\n",
        "\n",
        "#### 一、模型生成的語音（音檔）\n",
        "\n",
        "#### 二、LLM 生成的摘要（限 1～3 句）\n",
        "\n",
        "#### 三、回答問題：\n",
        "\n",
        "- 你覺得語音轉文字的準確度如何？有哪些地方辨識得不夠好？可能原因是什麼？\n",
        "- 生成的摘要有抓到重點嗎？哪些地方可以改進？"
      ],
      "metadata": {
        "id": "mrnCW91tpoZa"
      }
    },
    {
      "cell_type": "markdown",
      "source": [
        "音檔連結\n",
        "https://drive.google.com/file/d/1V7MT56GThk0-ONClr_EFsi_Mo2jBHKXI/view?usp=drive_link"
      ],
      "metadata": {
        "id": "A3hrIRemxVAi"
      }
    },
    {
      "cell_type": "code",
      "execution_count": null,
      "metadata": {
        "id": "wd8GsfQ8naaH",
        "colab": {
          "base_uri": "https://localhost:8080/"
        },
        "outputId": "088dc242-2707-4035-9397-7592a98c5f59"
      },
      "outputs": [
        {
          "output_type": "stream",
          "name": "stdout",
          "text": [
            "Downloading...\n",
            "From: https://drive.google.com/uc?id=1V7MT56GThk0-ONClr_EFsi_Mo2jBHKXI\n",
            "To: /content/hw7_lecture.m4a\n",
            "\r  0% 0.00/533k [00:00<?, ?B/s]\r100% 533k/533k [00:00<00:00, 63.1MB/s]\n"
          ]
        }
      ],
      "source": [
        "### 請執行以下程式碼獲取音檔 ###\n",
        "\n",
        "!gdown 1V7MT56GThk0-ONClr_EFsi_Mo2jBHKXI\n",
        "\n",
        "### 請執行以上程式碼獲取音檔 ###"
      ]
    },
    {
      "cell_type": "markdown",
      "source": [
        "## 🎙️ 任務二：聲音克隆（Voice Cloning）（50%)\n",
        "\n",
        "### 📌 任務說明：\n",
        "請使用你自己的語音樣本進行「聲音克隆」，讓 AI 模仿你的聲音講出新的句子。\n",
        "\n",
        "#### 任務步驟：\n",
        "1. 錄製一段自己的語音樣本（5～10 秒，語句自由發揮）\n",
        "2. 選擇兩個不同的聲音克隆工具（例如：`Tortoise TTS`、`Coqui TTS`）\n",
        "3. 使用這兩個工具分別模仿你的聲音，讓 AI 說出你自訂的一段新句子  \n",
        "4. 比較兩種工具的效果\n",
        "\n",
        "---\n",
        "\n",
        "### 📤 作業繳交內容：\n",
        "\n",
        "#### 一、原始語音樣本（音檔）\n",
        "\n",
        "#### 二、兩個模型生成的模仿語音（音檔）\n",
        "\n",
        "#### 三、回答問題：\n",
        "\n",
        "- AI 合成的聲音和你的聲音有多像？\n",
        "- 這兩個模型有什麼差異？哪一個表現比較好？為什麼？\n",
        "- 哪些部分可以進一步改進？"
      ],
      "metadata": {
        "id": "-H6KyBpSqiK2"
      }
    },
    {
      "cell_type": "code",
      "source": [],
      "metadata": {
        "id": "YzAsWYoNr21P"
      },
      "execution_count": null,
      "outputs": []
    }
  ]
}